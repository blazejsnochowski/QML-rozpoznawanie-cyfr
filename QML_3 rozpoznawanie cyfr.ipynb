{
 "cells": [
  {
   "cell_type": "code",
   "execution_count": 1,
   "id": "aa3bfccf",
   "metadata": {},
   "outputs": [],
   "source": [
    "# Importowanie bibliotek\n",
    "import pennylane as qml\n",
    "from pennylane import numpy as np\n",
    "import matplotlib.pyplot as plt\n",
    "from sklearn import datasets\n",
    "from sklearn.model_selection import train_test_split\n",
    "from sklearn.metrics import classification_report, confusion_matrix\n",
    "import seaborn as sns"
   ]
  },
  {
   "cell_type": "code",
   "execution_count": 2,
   "id": "55a97080",
   "metadata": {},
   "outputs": [],
   "source": [
    "# Ustawienie ziarna losowości\n",
    "np.random.seed(42)"
   ]
  },
  {
   "cell_type": "code",
   "execution_count": 3,
   "id": "6c10c9de",
   "metadata": {},
   "outputs": [],
   "source": [
    "# Wczytanie danych (zbior odręcznych cyfr z sklearn)\n",
    "data = datasets.load_digits()\n",
    "images = data['images']\n",
    "targets = data['target']"
   ]
  },
  {
   "cell_type": "code",
   "execution_count": 4,
   "id": "80c31d83",
   "metadata": {},
   "outputs": [],
   "source": [
    "# Skalowanie pikseli (standaryzacja do [0, 1])\n",
    "images = images / 16.0"
   ]
  },
  {
   "cell_type": "code",
   "execution_count": 5,
   "id": "da8d827e",
   "metadata": {},
   "outputs": [],
   "source": [
    "# Podział danych na zbiory treningowy i testowy\n",
    "X_train, X_test, y_train, y_test = train_test_split(images, targets, test_size=0.25, random_state=42)"
   ]
  },
  {
   "cell_type": "code",
   "execution_count": 6,
   "id": "de2e2b63",
   "metadata": {},
   "outputs": [],
   "source": [
    "# Spłaszczenie obrazów (wektory 64-elementowe)\n",
    "X_train = X_train.reshape(-1, 64)\n",
    "X_test = X_test.reshape(-1, 64)"
   ]
  },
  {
   "cell_type": "code",
   "execution_count": 7,
   "id": "3debbd83",
   "metadata": {},
   "outputs": [],
   "source": [
    "# Ustawienie parametrów kwantowego systemu\n",
    "n_qubits = 10  # Liczba kubitów odpowiada liczbie klas\n",
    "dev = qml.device(\"default.qubit\", wires=n_qubits)"
   ]
  },
  {
   "cell_type": "code",
   "execution_count": 8,
   "id": "4a8e8de6",
   "metadata": {},
   "outputs": [],
   "source": [
    "# Funkcja kodowania danych w przestrzeni kwantowej\n",
    "def encode_data(x):\n",
    "    for i in range(n_qubits):\n",
    "        qml.RY(x[i], wires=i)"
   ]
  },
  {
   "cell_type": "code",
   "execution_count": 9,
   "id": "bfd32ccc",
   "metadata": {},
   "outputs": [],
   "source": [
    "# Złożony kwantowy ansatz (obwód parametryczny)\n",
    "def variational_circuit(weights):\n",
    "    for layer in weights:\n",
    "        for i in range(n_qubits):\n",
    "            qml.RX(layer[i], wires=i)\n",
    "            qml.RZ(layer[i + n_qubits], wires=i)\n",
    "        for i in range(n_qubits - 1):\n",
    "            qml.CNOT(wires=[i, i + 1])"
   ]
  },
  {
   "cell_type": "code",
   "execution_count": 10,
   "id": "e86b20a6",
   "metadata": {},
   "outputs": [],
   "source": [
    "# Kwantowy obwód złożony z kodowania i ansatza\n",
    "@qml.qnode(dev)\n",
    "def quantum_circuit(params, x):\n",
    "    encode_data(x)\n",
    "    variational_circuit(params)\n",
    "    return [qml.expval(qml.PauliZ(i)) for i in range(n_qubits)]"
   ]
  },
  {
   "cell_type": "code",
   "execution_count": 11,
   "id": "a4987374",
   "metadata": {},
   "outputs": [],
   "source": [
    "# Funkcja kosztu oparta na entropii krzyżowej\n",
    "def cost(params, X, y):\n",
    "    predictions = np.array([quantum_circuit(params, x) for x in X])\n",
    "    softmax_preds = np.exp(predictions) / np.sum(np.exp(predictions), axis=1, keepdims=True)\n",
    "    one_hot_y = np.eye(num_classes)[y]\n",
    "    return -np.mean(np.sum(one_hot_y * np.log(softmax_preds + 1e-10), axis=1))"
   ]
  },
  {
   "cell_type": "code",
   "execution_count": 12,
   "id": "dc8d5f79",
   "metadata": {},
   "outputs": [],
   "source": [
    "# Trenowanie modelu dla wszystkich klas\n",
    "num_classes = 10\n",
    "opt = qml.GradientDescentOptimizer(stepsize=0.1)\n",
    "num_epochs = 30"
   ]
  },
  {
   "cell_type": "code",
   "execution_count": null,
   "id": "2543617c",
   "metadata": {},
   "outputs": [],
   "source": [
    "# Parametry ansatza (więcej warstw)\n",
    "params = np.random.uniform(low=-np.pi, high=np.pi, size=(num_epochs, 2 * n_qubits))\n",
    "losses = []\n",
    "\n",
    "for epoch in range(num_epochs):\n",
    "    params = opt.step(lambda p: cost(p, X_train, y_train), params)\n",
    "    current_loss = cost(params, X_train, y_train)\n",
    "    losses.append(current_loss)\n",
    "    print(f\"Epoch {epoch+1}: Loss = {current_loss:.4f}\")"
   ]
  },
  {
   "cell_type": "code",
   "execution_count": null,
   "id": "ead1d934",
   "metadata": {},
   "outputs": [],
   "source": [
    "# Predykcja dla danych testowych\n",
    "def predict(X):\n",
    "    predictions = np.array([quantum_circuit(params, x) for x in X])\n",
    "    return np.argmax(predictions, axis=1)\n"
   ]
  },
  {
   "cell_type": "code",
   "execution_count": null,
   "id": "9749866c",
   "metadata": {},
   "outputs": [],
   "source": [
    "# Ewaluacja modelu\n",
    "y_pred = predict(X_test)\n",
    "\n",
    "print(\"\\nClassification Report:\\n\")\n",
    "print(classification_report(y_test, y_pred))"
   ]
  },
  {
   "cell_type": "code",
   "execution_count": null,
   "id": "8f2f41e3",
   "metadata": {},
   "outputs": [],
   "source": [
    "# Macierz konfuzji\n",
    "cm = confusion_matrix(y_test, y_pred)\n",
    "plt.figure(figsize=(8, 6))\n",
    "sns.heatmap(cm, annot=True, fmt='d', cmap='Blues')\n",
    "plt.title('Confusion Matrix')\n",
    "plt.xlabel('Predicted')\n",
    "plt.ylabel('True')\n",
    "plt.show()\n"
   ]
  },
  {
   "cell_type": "code",
   "execution_count": null,
   "id": "719488a6",
   "metadata": {},
   "outputs": [],
   "source": []
  }
 ],
 "metadata": {
  "kernelspec": {
   "display_name": "Python 3 (ipykernel)",
   "language": "python",
   "name": "python3"
  },
  "language_info": {
   "codemirror_mode": {
    "name": "ipython",
    "version": 3
   },
   "file_extension": ".py",
   "mimetype": "text/x-python",
   "name": "python",
   "nbconvert_exporter": "python",
   "pygments_lexer": "ipython3",
   "version": "3.11.5"
  }
 },
 "nbformat": 4,
 "nbformat_minor": 5
}
